{
 "cells": [
  {
   "cell_type": "code",
   "execution_count": 1,
   "metadata": {},
   "outputs": [],
   "source": [
    "import torch\n",
    "import logging\n",
    "import os\n",
    "import shutil\n",
    "from utils import sr_utils"
   ]
  },
  {
   "cell_type": "code",
   "execution_count": 2,
   "metadata": {},
   "outputs": [],
   "source": [
    "model_name = \"BSRGAN\"\n",
    "device = torch.device(\"cuda:0\" if torch.cuda.is_available() else \"cpu\")\n",
    "logger = logging.getLogger('blind_sr_log')"
   ]
  },
  {
   "cell_type": "code",
   "execution_count": 3,
   "metadata": {},
   "outputs": [
    {
     "name": "stdout",
     "output_type": "stream",
     "text": [
      "[3, 3, 64, 23, 32, 4]\n"
     ]
    }
   ],
   "source": [
    "model = sr_utils.load_model(model_name, device)"
   ]
  },
  {
   "cell_type": "code",
   "execution_count": 4,
   "metadata": {},
   "outputs": [
    {
     "name": "stderr",
     "output_type": "stream",
     "text": [
      "22-06-03 13:34:46.202 :           GPU ID : 0\n",
      "22-06-03 13:34:46.213 :    1 --> Lincoln.png\n"
     ]
    },
    {
     "name": "stdout",
     "output_type": "stream",
     "text": [
      "LogHandlers setup!\n"
     ]
    },
    {
     "name": "stderr",
     "output_type": "stream",
     "text": [
      "22-06-03 13:34:48.150 :    2 --> building.png\n",
      "22-06-03 13:34:48.499 :    3 --> butterfly.png\n",
      "22-06-03 13:34:49.385 :    4 --> butterfly2.png\n",
      "22-06-03 13:34:49.840 :    5 --> chip.png\n",
      "22-06-03 13:34:50.052 :    6 --> comic1.png\n",
      "22-06-03 13:34:50.260 :    7 --> comic2.png\n",
      "22-06-03 13:34:50.710 :    8 --> comic3.png\n",
      "22-06-03 13:34:51.614 :    9 --> computer.png\n",
      "22-06-03 13:34:52.688 :   10 --> dog.png\n",
      "22-06-03 13:34:54.088 :   11 --> dped_crop00061.png\n",
      "22-06-03 13:34:54.864 :   12 --> foreman.png\n",
      "22-06-03 13:34:55.741 :   13 --> frog.png\n",
      "22-06-03 13:34:56.511 :   14 --> oldphoto2.png\n",
      "22-06-03 13:34:56.885 :   15 --> oldphoto3.png\n",
      "22-06-03 13:34:57.295 :   16 --> oldphoto6.png\n",
      "22-06-03 13:34:58.174 :   17 --> painting.png\n",
      "22-06-03 13:34:58.948 :   18 --> pattern.png\n",
      "22-06-03 13:34:59.450 :   19 --> ppt3.png\n",
      "22-06-03 13:35:00.180 :   20 --> tiger.png\n"
     ]
    },
    {
     "ename": "RuntimeError",
     "evalue": "[enforce fail at ..\\c10\\core\\CPUAllocator.cpp:79] data. DefaultCPUAllocator: not enough memory: you tried to allocate 24883200 bytes.",
     "output_type": "error",
     "traceback": [
      "\u001b[1;31m---------------------------------------------------------------------------\u001b[0m",
      "\u001b[1;31mRuntimeError\u001b[0m                              Traceback (most recent call last)",
      "\u001b[1;32me:\\BSRGAN\\denoise_server.ipynb Cell 4'\u001b[0m in \u001b[0;36m<module>\u001b[1;34m\u001b[0m\n\u001b[1;32m----> <a href='vscode-notebook-cell:/e%3A/BSRGAN/denoise_server.ipynb#ch0000003?line=0'>1</a>\u001b[0m sr_utils\u001b[39m.\u001b[39;49msuper_resolution(model, logger, device, testset_Ls\u001b[39m=\u001b[39;49m[\u001b[39m\"\u001b[39;49m\u001b[39mRealSRSet\u001b[39;49m\u001b[39m\"\u001b[39;49m])\n",
      "File \u001b[1;32me:\\BSRGAN\\utils\\sr_utils.py:72\u001b[0m, in \u001b[0;36msuper_resolution\u001b[1;34m(model, logger, device, testset_Ls, save_results)\u001b[0m\n\u001b[0;32m     <a href='file:///e%3A/BSRGAN/utils/sr_utils.py?line=66'>67</a>\u001b[0m img_E \u001b[39m=\u001b[39m model(img_L)\n\u001b[0;32m     <a href='file:///e%3A/BSRGAN/utils/sr_utils.py?line=68'>69</a>\u001b[0m \u001b[39m# --------------------------------\u001b[39;00m\n\u001b[0;32m     <a href='file:///e%3A/BSRGAN/utils/sr_utils.py?line=69'>70</a>\u001b[0m \u001b[39m# (3) img_E\u001b[39;00m\n\u001b[0;32m     <a href='file:///e%3A/BSRGAN/utils/sr_utils.py?line=70'>71</a>\u001b[0m \u001b[39m# --------------------------------\u001b[39;00m\n\u001b[1;32m---> <a href='file:///e%3A/BSRGAN/utils/sr_utils.py?line=71'>72</a>\u001b[0m img_E \u001b[39m=\u001b[39m util\u001b[39m.\u001b[39;49mtensor2uint(img_E)\n\u001b[0;32m     <a href='file:///e%3A/BSRGAN/utils/sr_utils.py?line=72'>73</a>\u001b[0m \u001b[39mif\u001b[39;00m save_results:\n\u001b[0;32m     <a href='file:///e%3A/BSRGAN/utils/sr_utils.py?line=73'>74</a>\u001b[0m     util\u001b[39m.\u001b[39mimsave(\n\u001b[0;32m     <a href='file:///e%3A/BSRGAN/utils/sr_utils.py?line=74'>75</a>\u001b[0m         img_E,\n\u001b[0;32m     <a href='file:///e%3A/BSRGAN/utils/sr_utils.py?line=75'>76</a>\u001b[0m         os\u001b[39m.\u001b[39mpath\u001b[39m.\u001b[39mjoin(E_path, \u001b[39mf\u001b[39m\u001b[39m\"\u001b[39m\u001b[39m{\u001b[39;00mimg_name\u001b[39m}\u001b[39;00m\u001b[39m_sr.png\u001b[39m\u001b[39m\"\u001b[39m),\n\u001b[0;32m     <a href='file:///e%3A/BSRGAN/utils/sr_utils.py?line=76'>77</a>\u001b[0m     )\n",
      "File \u001b[1;32me:\\BSRGAN\\utils\\utils_image.py:300\u001b[0m, in \u001b[0;36mtensor2uint\u001b[1;34m(img)\u001b[0m\n\u001b[0;32m    <a href='file:///e%3A/BSRGAN/utils/utils_image.py?line=298'>299</a>\u001b[0m \u001b[39mdef\u001b[39;00m \u001b[39mtensor2uint\u001b[39m(img):\n\u001b[1;32m--> <a href='file:///e%3A/BSRGAN/utils/utils_image.py?line=299'>300</a>\u001b[0m     img \u001b[39m=\u001b[39m img\u001b[39m.\u001b[39;49mdata\u001b[39m.\u001b[39;49msqueeze()\u001b[39m.\u001b[39;49mfloat()\u001b[39m.\u001b[39;49mclamp_(\u001b[39m0\u001b[39;49m, \u001b[39m1\u001b[39;49m)\u001b[39m.\u001b[39;49mcpu()\u001b[39m.\u001b[39mnumpy()\n\u001b[0;32m    <a href='file:///e%3A/BSRGAN/utils/utils_image.py?line=300'>301</a>\u001b[0m     \u001b[39mif\u001b[39;00m img\u001b[39m.\u001b[39mndim \u001b[39m==\u001b[39m \u001b[39m3\u001b[39m:\n\u001b[0;32m    <a href='file:///e%3A/BSRGAN/utils/utils_image.py?line=301'>302</a>\u001b[0m         img \u001b[39m=\u001b[39m np\u001b[39m.\u001b[39mtranspose(img, (\u001b[39m1\u001b[39m, \u001b[39m2\u001b[39m, \u001b[39m0\u001b[39m))\n",
      "\u001b[1;31mRuntimeError\u001b[0m: [enforce fail at ..\\c10\\core\\CPUAllocator.cpp:79] data. DefaultCPUAllocator: not enough memory: you tried to allocate 24883200 bytes."
     ]
    }
   ],
   "source": [
    "sr_utils.super_resolution(model, logger, device, testset_Ls=[\"RealSRSet\"])"
   ]
  }
 ],
 "metadata": {
  "interpreter": {
   "hash": "9dee633ba2130051bdaa5f6b5bf764757b2eceeb46743112637f16f9185f6636"
  },
  "kernelspec": {
   "display_name": "Python 3.9.7 64-bit",
   "language": "python",
   "name": "python3"
  },
  "language_info": {
   "codemirror_mode": {
    "name": "ipython",
    "version": 3
   },
   "file_extension": ".py",
   "mimetype": "text/x-python",
   "name": "python",
   "nbconvert_exporter": "python",
   "pygments_lexer": "ipython3",
   "version": "3.9.7"
  },
  "orig_nbformat": 4
 },
 "nbformat": 4,
 "nbformat_minor": 2
}
